{
 "cells": [
  {
   "cell_type": "code",
   "execution_count": 4,
   "metadata": {},
   "outputs": [],
   "source": [
    "import pandas as pd\n",
    "import numpy as np\n",
    "import os"
   ]
  },
  {
   "cell_type": "markdown",
   "metadata": {},
   "source": [
    "# Logniscient : Data Preparation"
   ]
  },
  {
   "cell_type": "markdown",
   "metadata": {
    "vscode": {
     "languageId": "plaintext"
    }
   },
   "source": [
    "## Premier dataset (UWF_TestZeekData24)"
   ]
  },
  {
   "cell_type": "markdown",
   "metadata": {},
   "source": [
    "### Création des fonctions"
   ]
  },
  {
   "cell_type": "code",
   "execution_count": 2,
   "metadata": {},
   "outputs": [],
   "source": [
    "# Load data\n",
    "def load_data(data_path):\n",
    "    return pd.read_csv(data_path)\n",
    "\n",
    "#clean data\n",
    "def clean_data_1(df):\n",
    "    df[\"duration\"] = df[\"duration\"].fillna(0) #On remplace les durees vides par 0\n",
    "    df[\"orig_bytes\"] = df[\"orig_bytes\"].fillna(0) #On remplace les orig_bytes vides par 0\n",
    "    df[\"resp_bytes\"] = df[\"resp_bytes\"].fillna(0) #On remplace les resp_bytes vides par 0\n",
    "    df[\"service\"] = df[\"service\"].fillna(\"unknow\") #On remplace les resp_bytes vides par 0\n",
    "    df[\"ts\"] = pd.to_datetime(df[\"ts\"], unit=\"s\")\n",
    "    df[\"date\"] = df[\"ts\"].dt.date   # recupere la date de la colonne ts\n",
    "    df[\"heure\"] = df[\"ts\"].dt.time  # recupere l'heure de la colonne ts\n",
    "    df = df.drop('datetime', axis=1) # on supprime la colonne datetime\n",
    "    \n",
    "    df = df.drop('uid', axis=1) # on supprime la colonne uid\n",
    "    df = df.drop('community_id', axis=1) # on supprime la colonne community_id\n",
    "    df = df.drop('ts', axis=1) # on supprime la colonne community_id\n",
    "    \n",
    "    #On renomme les colonnes\n",
    "    df.rename(columns={'proto': 'protocol'}, inplace=True)\n",
    "    df.rename(columns={'src_ip_zeek': 'src_ip'}, inplace=True)\n",
    "    df.rename(columns={'dest_ip_zeek': 'dest_ip'}, inplace=True)\n",
    "    df.rename(columns={'src_port_zeek': 'src_port'}, inplace=True)\n",
    "    df.rename(columns={'dest_port_zeek': 'dest_port'}, inplace=True)\n",
    "    return df\n",
    "\n",
    "#save data\n",
    "def save_data(df, data_path):\n",
    "    df.to_csv(data_path, index=False)\n",
    "    \n",
    "#Get all csv files in a directory and its subdirectories    \n",
    "def get_csv_files(data_dir):\n",
    "    csv_files = []\n",
    "    for root, dirs, files in os.walk(data_dir):\n",
    "        for file in files:\n",
    "            if file.endswith(\".csv\"):\n",
    "                sub_dir = os.path.basename(root)\n",
    "                csv_files.append((sub_dir, file))\n",
    "    return csv_files"
   ]
  },
  {
   "cell_type": "markdown",
   "metadata": {},
   "source": [
    "### Transformation"
   ]
  },
  {
   "cell_type": "code",
   "execution_count": 63,
   "metadata": {},
   "outputs": [
    {
     "name": "stdout",
     "output_type": "stream",
     "text": [
      "[('Benign', 'part-00000-b039213f-1208-4f1b-b71d-5e8e3a4a2939-c000 (1).csv'), ('Credential_Access', 'part-00000-912fdc44-5727-4d42-8fd6-a0e206ba29f8-c000.csv'), ('Defense_Evasion', 'part-00000-de4985c7-284a-4b6e-b507-e69a2d172582-c000.csv'), ('Exifltration', 'part-00000-6a530c25-0f6b-46a1-ba16-c6b658ef75e8-c000 (1).csv'), ('Initial_Access', 'part-00000-9a37b839-429e-444b-82a5-a6d5e69dad7e-c000.csv'), ('Persistence', 'part-00000-fb5a764a-e65e-4e10-b6fb-1a189589d5e0-c000.csv'), ('Privilege_Escalation', 'part-00000-d8fcf83a-aed1-4cb1-babf-581208088293-c000.csv'), ('Reconnaissance', 'part-00000-49ed1cc6-3205-4c76-8e28-4da9abf78363-c000.csv')]\n"
     ]
    }
   ],
   "source": [
    "# Recuperer les premiers fichiers csv\n",
    "data_dir = '../data/brut/UWF_TestZeekData24'\n",
    "csv_files = get_csv_files(data_dir)\n",
    "print(csv_files)\n",
    "\n",
    "#les charger, les nettoyer et les sauvegarder\n",
    "for i in csv_files:\n",
    "    sub_dir = i[0]\n",
    "    file = i[1]\n",
    "    data_path = data_dir+\"/\"+sub_dir+\"/\"+file\n",
    "    df = load_data(data_path)\n",
    "    df = clean_data_1(df)\n",
    "    data_path = \"../data/clean/UWF_TestZeekData24_\"+sub_dir+\".csv\"\n",
    "    save_data(df, data_path)"
   ]
  },
  {
   "cell_type": "markdown",
   "metadata": {},
   "source": [
    "### Verifications (affichage des infos de chaque fichier)"
   ]
  },
  {
   "cell_type": "code",
   "execution_count": 64,
   "metadata": {},
   "outputs": [
    {
     "name": "stdout",
     "output_type": "stream",
     "text": [
      "[('clean', 'UWF_TestZeekData24_Benign.csv'), ('clean', 'UWF_TestZeekData24_Credential_Access.csv'), ('clean', 'UWF_TestZeekData24_Defense_Evasion.csv'), ('clean', 'UWF_TestZeekData24_Exifltration.csv'), ('clean', 'UWF_TestZeekData24_Initial_Access.csv'), ('clean', 'UWF_TestZeekData24_Persistence.csv'), ('clean', 'UWF_TestZeekData24_Privilege_Escalation.csv'), ('clean', 'UWF_TestZeekData24_Reconnaissance.csv')]\n",
      "<class 'pandas.core.frame.DataFrame'>\n",
      "RangeIndex: 47906 entries, 0 to 47905\n",
      "Data columns (total 24 columns):\n",
      " #   Column           Non-Null Count  Dtype  \n",
      "---  ------           --------------  -----  \n",
      " 0   conn_state       47906 non-null  object \n",
      " 1   duration         47906 non-null  float64\n",
      " 2   history          47845 non-null  object \n",
      " 3   src_ip           47906 non-null  object \n",
      " 4   src_port         47906 non-null  int64  \n",
      " 5   dest_ip          47906 non-null  object \n",
      " 6   dest_port        47906 non-null  int64  \n",
      " 7   local_orig       47906 non-null  bool   \n",
      " 8   local_resp       47906 non-null  bool   \n",
      " 9   missed_bytes     47906 non-null  int64  \n",
      " 10  orig_bytes       47906 non-null  float64\n",
      " 11  orig_ip_bytes    47906 non-null  int64  \n",
      " 12  orig_pkts        47906 non-null  int64  \n",
      " 13  protocol         47906 non-null  object \n",
      " 14  resp_bytes       47906 non-null  float64\n",
      " 15  resp_ip_bytes    47906 non-null  int64  \n",
      " 16  resp_pkts        47906 non-null  int64  \n",
      " 17  service          47906 non-null  object \n",
      " 18  label_tactic     47906 non-null  object \n",
      " 19  label_technique  47906 non-null  object \n",
      " 20  label_binary     47906 non-null  bool   \n",
      " 21  label_cve        47906 non-null  object \n",
      " 22  date             47906 non-null  object \n",
      " 23  heure            47906 non-null  object \n",
      "dtypes: bool(3), float64(3), int64(7), object(11)\n",
      "memory usage: 7.8+ MB\n",
      "None\n",
      "<class 'pandas.core.frame.DataFrame'>\n",
      "RangeIndex: 43494 entries, 0 to 43493\n",
      "Data columns (total 24 columns):\n",
      " #   Column           Non-Null Count  Dtype  \n",
      "---  ------           --------------  -----  \n",
      " 0   conn_state       43494 non-null  object \n",
      " 1   duration         43494 non-null  float64\n",
      " 2   history          43494 non-null  object \n",
      " 3   src_ip           43494 non-null  object \n",
      " 4   src_port         43494 non-null  int64  \n",
      " 5   dest_ip          43494 non-null  object \n",
      " 6   dest_port        43494 non-null  int64  \n",
      " 7   local_orig       43494 non-null  bool   \n",
      " 8   local_resp       43494 non-null  bool   \n",
      " 9   missed_bytes     43494 non-null  int64  \n",
      " 10  orig_bytes       43494 non-null  int64  \n",
      " 11  orig_ip_bytes    43494 non-null  int64  \n",
      " 12  orig_pkts        43494 non-null  int64  \n",
      " 13  protocol         43494 non-null  object \n",
      " 14  resp_bytes       43494 non-null  int64  \n",
      " 15  resp_ip_bytes    43494 non-null  int64  \n",
      " 16  resp_pkts        43494 non-null  int64  \n",
      " 17  service          43494 non-null  object \n",
      " 18  label_tactic     43494 non-null  object \n",
      " 19  label_technique  43494 non-null  object \n",
      " 20  label_binary     43494 non-null  bool   \n",
      " 21  label_cve        43494 non-null  object \n",
      " 22  date             43494 non-null  object \n",
      " 23  heure            43494 non-null  object \n",
      "dtypes: bool(3), float64(1), int64(9), object(11)\n",
      "memory usage: 7.1+ MB\n",
      "None\n",
      "<class 'pandas.core.frame.DataFrame'>\n",
      "RangeIndex: 326 entries, 0 to 325\n",
      "Data columns (total 24 columns):\n",
      " #   Column           Non-Null Count  Dtype  \n",
      "---  ------           --------------  -----  \n",
      " 0   conn_state       326 non-null    object \n",
      " 1   duration         326 non-null    float64\n",
      " 2   history          326 non-null    object \n",
      " 3   src_ip           326 non-null    object \n",
      " 4   src_port         326 non-null    int64  \n",
      " 5   dest_ip          326 non-null    object \n",
      " 6   dest_port        326 non-null    int64  \n",
      " 7   local_orig       326 non-null    bool   \n",
      " 8   local_resp       326 non-null    bool   \n",
      " 9   missed_bytes     326 non-null    int64  \n",
      " 10  orig_bytes       326 non-null    int64  \n",
      " 11  orig_ip_bytes    326 non-null    int64  \n",
      " 12  orig_pkts        326 non-null    int64  \n",
      " 13  protocol         326 non-null    object \n",
      " 14  resp_bytes       326 non-null    int64  \n",
      " 15  resp_ip_bytes    326 non-null    int64  \n",
      " 16  resp_pkts        326 non-null    int64  \n",
      " 17  service          326 non-null    object \n",
      " 18  label_tactic     326 non-null    object \n",
      " 19  label_technique  326 non-null    object \n",
      " 20  label_binary     326 non-null    bool   \n",
      " 21  label_cve        326 non-null    object \n",
      " 22  date             326 non-null    object \n",
      " 23  heure            326 non-null    object \n",
      "dtypes: bool(3), float64(1), int64(9), object(11)\n",
      "memory usage: 54.6+ KB\n",
      "None\n",
      "<class 'pandas.core.frame.DataFrame'>\n",
      "RangeIndex: 23 entries, 0 to 22\n",
      "Data columns (total 24 columns):\n",
      " #   Column           Non-Null Count  Dtype  \n",
      "---  ------           --------------  -----  \n",
      " 0   conn_state       23 non-null     object \n",
      " 1   duration         23 non-null     float64\n",
      " 2   history          23 non-null     object \n",
      " 3   src_ip           23 non-null     object \n",
      " 4   src_port         23 non-null     int64  \n",
      " 5   dest_ip          23 non-null     object \n",
      " 6   dest_port        23 non-null     int64  \n",
      " 7   local_orig       23 non-null     bool   \n",
      " 8   local_resp       23 non-null     bool   \n",
      " 9   missed_bytes     23 non-null     int64  \n",
      " 10  orig_bytes       23 non-null     int64  \n",
      " 11  orig_ip_bytes    23 non-null     int64  \n",
      " 12  orig_pkts        23 non-null     int64  \n",
      " 13  protocol         23 non-null     object \n",
      " 14  resp_bytes       23 non-null     int64  \n",
      " 15  resp_ip_bytes    23 non-null     int64  \n",
      " 16  resp_pkts        23 non-null     int64  \n",
      " 17  service          23 non-null     object \n",
      " 18  label_tactic     23 non-null     object \n",
      " 19  label_technique  23 non-null     object \n",
      " 20  label_binary     23 non-null     bool   \n",
      " 21  label_cve        23 non-null     object \n",
      " 22  date             23 non-null     object \n",
      " 23  heure            23 non-null     object \n",
      "dtypes: bool(3), float64(1), int64(9), object(11)\n",
      "memory usage: 4.0+ KB\n",
      "None\n",
      "<class 'pandas.core.frame.DataFrame'>\n",
      "RangeIndex: 561 entries, 0 to 560\n",
      "Data columns (total 24 columns):\n",
      " #   Column           Non-Null Count  Dtype  \n",
      "---  ------           --------------  -----  \n",
      " 0   conn_state       561 non-null    object \n",
      " 1   duration         561 non-null    float64\n",
      " 2   history          561 non-null    object \n",
      " 3   src_ip           561 non-null    object \n",
      " 4   src_port         561 non-null    int64  \n",
      " 5   dest_ip          561 non-null    object \n",
      " 6   dest_port        561 non-null    int64  \n",
      " 7   local_orig       561 non-null    bool   \n",
      " 8   local_resp       561 non-null    bool   \n",
      " 9   missed_bytes     561 non-null    int64  \n",
      " 10  orig_bytes       561 non-null    int64  \n",
      " 11  orig_ip_bytes    561 non-null    int64  \n",
      " 12  orig_pkts        561 non-null    int64  \n",
      " 13  protocol         561 non-null    object \n",
      " 14  resp_bytes       561 non-null    int64  \n",
      " 15  resp_ip_bytes    561 non-null    int64  \n",
      " 16  resp_pkts        561 non-null    int64  \n",
      " 17  service          561 non-null    object \n",
      " 18  label_tactic     561 non-null    object \n",
      " 19  label_technique  561 non-null    object \n",
      " 20  label_binary     561 non-null    object \n",
      " 21  label_cve        561 non-null    object \n",
      " 22  date             561 non-null    object \n",
      " 23  heure            561 non-null    object \n",
      "dtypes: bool(2), float64(1), int64(9), object(12)\n",
      "memory usage: 97.6+ KB\n",
      "None\n",
      "<class 'pandas.core.frame.DataFrame'>\n",
      "RangeIndex: 326 entries, 0 to 325\n",
      "Data columns (total 24 columns):\n",
      " #   Column           Non-Null Count  Dtype  \n",
      "---  ------           --------------  -----  \n",
      " 0   conn_state       326 non-null    object \n",
      " 1   duration         326 non-null    float64\n",
      " 2   history          326 non-null    object \n",
      " 3   src_ip           326 non-null    object \n",
      " 4   src_port         326 non-null    int64  \n",
      " 5   dest_ip          326 non-null    object \n",
      " 6   dest_port        326 non-null    int64  \n",
      " 7   local_orig       326 non-null    bool   \n",
      " 8   local_resp       326 non-null    bool   \n",
      " 9   missed_bytes     326 non-null    int64  \n",
      " 10  orig_bytes       326 non-null    int64  \n",
      " 11  orig_ip_bytes    326 non-null    int64  \n",
      " 12  orig_pkts        326 non-null    int64  \n",
      " 13  protocol         326 non-null    object \n",
      " 14  resp_bytes       326 non-null    int64  \n",
      " 15  resp_ip_bytes    326 non-null    int64  \n",
      " 16  resp_pkts        326 non-null    int64  \n",
      " 17  service          326 non-null    object \n",
      " 18  label_tactic     326 non-null    object \n",
      " 19  label_technique  326 non-null    object \n",
      " 20  label_binary     326 non-null    object \n",
      " 21  label_cve        326 non-null    object \n",
      " 22  date             326 non-null    object \n",
      " 23  heure            326 non-null    object \n",
      "dtypes: bool(2), float64(1), int64(9), object(12)\n",
      "memory usage: 56.8+ KB\n",
      "None\n",
      "<class 'pandas.core.frame.DataFrame'>\n",
      "RangeIndex: 326 entries, 0 to 325\n",
      "Data columns (total 24 columns):\n",
      " #   Column           Non-Null Count  Dtype  \n",
      "---  ------           --------------  -----  \n",
      " 0   conn_state       326 non-null    object \n",
      " 1   duration         326 non-null    float64\n",
      " 2   history          326 non-null    object \n",
      " 3   src_ip           326 non-null    object \n",
      " 4   src_port         326 non-null    int64  \n",
      " 5   dest_ip          326 non-null    object \n",
      " 6   dest_port        326 non-null    int64  \n",
      " 7   local_orig       326 non-null    bool   \n",
      " 8   local_resp       326 non-null    bool   \n",
      " 9   missed_bytes     326 non-null    int64  \n",
      " 10  orig_bytes       326 non-null    int64  \n",
      " 11  orig_ip_bytes    326 non-null    int64  \n",
      " 12  orig_pkts        326 non-null    int64  \n",
      " 13  protocol         326 non-null    object \n",
      " 14  resp_bytes       326 non-null    int64  \n",
      " 15  resp_ip_bytes    326 non-null    int64  \n",
      " 16  resp_pkts        326 non-null    int64  \n",
      " 17  service          326 non-null    object \n",
      " 18  label_tactic     326 non-null    object \n",
      " 19  label_technique  326 non-null    object \n",
      " 20  label_binary     326 non-null    object \n",
      " 21  label_cve        326 non-null    object \n",
      " 22  date             326 non-null    object \n",
      " 23  heure            326 non-null    object \n",
      "dtypes: bool(2), float64(1), int64(9), object(12)\n",
      "memory usage: 56.8+ KB\n",
      "None\n",
      "<class 'pandas.core.frame.DataFrame'>\n",
      "RangeIndex: 2909 entries, 0 to 2908\n",
      "Data columns (total 24 columns):\n",
      " #   Column           Non-Null Count  Dtype  \n",
      "---  ------           --------------  -----  \n",
      " 0   conn_state       2909 non-null   object \n",
      " 1   duration         2909 non-null   float64\n",
      " 2   history          2909 non-null   object \n",
      " 3   src_ip           2909 non-null   object \n",
      " 4   src_port         2909 non-null   int64  \n",
      " 5   dest_ip          2909 non-null   object \n",
      " 6   dest_port        2909 non-null   int64  \n",
      " 7   local_orig       2909 non-null   bool   \n",
      " 8   local_resp       2909 non-null   bool   \n",
      " 9   missed_bytes     2909 non-null   int64  \n",
      " 10  orig_bytes       2909 non-null   float64\n",
      " 11  orig_ip_bytes    2909 non-null   int64  \n",
      " 12  orig_pkts        2909 non-null   int64  \n",
      " 13  protocol         2909 non-null   object \n",
      " 14  resp_bytes       2909 non-null   float64\n",
      " 15  resp_ip_bytes    2909 non-null   int64  \n",
      " 16  resp_pkts        2909 non-null   int64  \n",
      " 17  service          2909 non-null   object \n",
      " 18  label_tactic     2909 non-null   object \n",
      " 19  label_technique  2909 non-null   object \n",
      " 20  label_binary     2909 non-null   bool   \n",
      " 21  label_cve        2909 non-null   object \n",
      " 22  date             2909 non-null   object \n",
      " 23  heure            2909 non-null   object \n",
      "dtypes: bool(3), float64(3), int64(7), object(11)\n",
      "memory usage: 485.9+ KB\n",
      "None\n"
     ]
    }
   ],
   "source": [
    "data_path = \"../data/clean\"\n",
    "csv_files = get_csv_files(data_path)\n",
    "print(csv_files)\n",
    "for i in csv_files:\n",
    "    df = load_data(data_path+\"/\"+i[1])\n",
    "    print(df.info())"
   ]
  },
  {
   "cell_type": "markdown",
   "metadata": {},
   "source": [
    "## Deuxième dataset (UWF_ZeekData22)"
   ]
  },
  {
   "cell_type": "markdown",
   "metadata": {},
   "source": [
    "### Création des fonctions"
   ]
  },
  {
   "cell_type": "code",
   "execution_count": 65,
   "metadata": {},
   "outputs": [],
   "source": [
    "def clean_data_2(df):\n",
    "    df[\"duration\"] = df[\"duration\"].fillna(0) #On remplace les durees vides par 0\n",
    "    df[\"orig_bytes\"] = df[\"orig_bytes\"].fillna(0) #On remplace les orig_bytes vides par 0\n",
    "    df[\"resp_bytes\"] = df[\"resp_bytes\"].fillna(0) #On remplace les resp_bytes vides par 0\n",
    "    df[\"service\"] = df[\"service\"].fillna(\"unknow\") #On remplace les resp_bytes vides par 0\n",
    "    df[\"history\"] = df[\"history\"].fillna(\"unknow\") #On remplace les resp_bytes vides par 0\n",
    "    df[\"ts\"] = pd.to_datetime(df[\"ts\"], unit=\"s\")\n",
    "    df[\"date\"] = df[\"ts\"].dt.date   # recupere la date de la colonne ts\n",
    "    df[\"heure\"] = df[\"ts\"].dt.time  # recupere l'heure de la colonne ts\n",
    "    df = df.drop('datetime', axis=1) # on supprime la colonne datetime\n",
    "    \n",
    "    df = df.drop('uid', axis=1) # on supprime la colonne uid\n",
    "    df = df.drop('community_id', axis=1) # on supprime la colonne community_id\n",
    "    df = df.drop('ts', axis=1) # on supprime la colonne community_id\n",
    "\n",
    "    #On renomme les colonnes\n",
    "    df.rename(columns={'mitre_attack_tactics': 'label_tactic'}, inplace=True) \n",
    "    \n",
    "    return df"
   ]
  },
  {
   "cell_type": "markdown",
   "metadata": {},
   "source": [
    "### Transformation"
   ]
  },
  {
   "cell_type": "code",
   "execution_count": 66,
   "metadata": {},
   "outputs": [
    {
     "name": "stdout",
     "output_type": "stream",
     "text": [
      "[('UWF_ZeekData22', '1.csv'), ('UWF_ZeekData22', '2.csv'), ('UWF_ZeekData22', '3.csv'), ('UWF_ZeekData22', '4.csv'), ('UWF_ZeekData22', '5.csv')]\n"
     ]
    }
   ],
   "source": [
    "# Recuperer les deuxièmes fichiers csv\n",
    "data_dir = '../data/brut/UWF_ZeekData22'\n",
    "csv_files = get_csv_files(data_dir)\n",
    "print(csv_files)\n",
    "\n",
    "#les charger, les nettoyer et les sauvegarder\n",
    "for i in csv_files:\n",
    "    sub_dir = i[0]\n",
    "    file = i[1]\n",
    "    data_path = data_dir+\"/\"+\"/\"+file\n",
    "    df = load_data(data_path)\n",
    "    df = clean_data_2(df)\n",
    "    data_path = \"../data/clean/UWF_TestZeekData22_\"+file\n",
    "    save_data(df, data_path)\n",
    "    "
   ]
  },
  {
   "cell_type": "markdown",
   "metadata": {},
   "source": [
    "## Concaténation des fichiers"
   ]
  },
  {
   "cell_type": "code",
   "execution_count": null,
   "metadata": {},
   "outputs": [
    {
     "name": "stdout",
     "output_type": "stream",
     "text": [
      "UWF_TestZeekData22_2.csv\n",
      "(1000386, 21)\n",
      "(1023389, 21)\n",
      "UWF_TestZeekData22_3.csv\n",
      "(10490, 21)\n",
      "(1033879, 21)\n",
      "UWF_TestZeekData22_4.csv\n",
      "(1000595, 21)\n",
      "(2034474, 21)\n",
      "UWF_TestZeekData22_5.csv\n",
      "(10260, 21)\n",
      "(2044734, 21)\n",
      "UWF_TestZeekData24_Benign.csv\n",
      "(47906, 24)\n",
      "(2092640, 24)\n",
      "UWF_TestZeekData24_Credential_Access.csv\n",
      "(43494, 24)\n",
      "(2136134, 24)\n",
      "UWF_TestZeekData24_Defense_Evasion.csv\n",
      "(326, 24)\n",
      "(2136460, 24)\n",
      "UWF_TestZeekData24_Exifltration.csv\n",
      "(23, 24)\n",
      "(2136483, 24)\n",
      "UWF_TestZeekData24_Initial_Access.csv\n",
      "(561, 24)\n",
      "(2137044, 24)\n",
      "UWF_TestZeekData24_Persistence.csv\n",
      "(326, 24)\n",
      "(2137370, 24)\n",
      "UWF_TestZeekData24_Privilege_Escalation.csv\n",
      "(326, 24)\n",
      "(2137696, 24)\n",
      "UWF_TestZeekData24_Reconnaissance.csv\n",
      "(2909, 24)\n",
      "(2140605, 24)\n"
     ]
    },
    {
     "ename": "KeyboardInterrupt",
     "evalue": "",
     "output_type": "error",
     "traceback": [
      "\u001b[1;31m---------------------------------------------------------------------------\u001b[0m",
      "\u001b[1;31mKeyboardInterrupt\u001b[0m                         Traceback (most recent call last)",
      "\u001b[1;32m~\\AppData\\Local\\Temp\\ipykernel_20320\\1819820351.py\u001b[0m in \u001b[0;36m?\u001b[1;34m()\u001b[0m\n\u001b[0;32m     14\u001b[0m     \u001b[0mprint\u001b[0m\u001b[1;33m(\u001b[0m\u001b[0mdf\u001b[0m\u001b[1;33m.\u001b[0m\u001b[0mshape\u001b[0m\u001b[1;33m)\u001b[0m\u001b[1;33m\u001b[0m\u001b[1;33m\u001b[0m\u001b[0m\n\u001b[0;32m     15\u001b[0m \u001b[1;33m\u001b[0m\u001b[0m\n\u001b[0;32m     16\u001b[0m \u001b[1;32mfor\u001b[0m \u001b[0mx\u001b[0m \u001b[1;32min\u001b[0m \u001b[0mdf\u001b[0m\u001b[1;33m.\u001b[0m\u001b[0mindex\u001b[0m\u001b[1;33m:\u001b[0m\u001b[1;33m\u001b[0m\u001b[1;33m\u001b[0m\u001b[0m\n\u001b[0;32m     17\u001b[0m         \u001b[1;32mif\u001b[0m \u001b[0mdf\u001b[0m\u001b[1;33m.\u001b[0m\u001b[0mloc\u001b[0m\u001b[1;33m[\u001b[0m\u001b[0mx\u001b[0m\u001b[1;33m,\u001b[0m \u001b[1;34m'label_tactic'\u001b[0m\u001b[1;33m]\u001b[0m \u001b[1;33m!=\u001b[0m \u001b[1;34m'none'\u001b[0m\u001b[1;33m:\u001b[0m\u001b[1;33m\u001b[0m\u001b[1;33m\u001b[0m\u001b[0m\n\u001b[1;32m---> 18\u001b[1;33m             \u001b[0mdf\u001b[0m\u001b[1;33m.\u001b[0m\u001b[0mloc\u001b[0m\u001b[1;33m[\u001b[0m\u001b[0mx\u001b[0m\u001b[1;33m,\u001b[0m \u001b[1;34m'label_binary'\u001b[0m\u001b[1;33m]\u001b[0m \u001b[1;33m=\u001b[0m \u001b[1;32mTrue\u001b[0m\u001b[1;33m\u001b[0m\u001b[1;33m\u001b[0m\u001b[0m\n\u001b[0m\u001b[0;32m     19\u001b[0m         \u001b[1;32melse\u001b[0m\u001b[1;33m:\u001b[0m\u001b[1;33m\u001b[0m\u001b[1;33m\u001b[0m\u001b[0m\n\u001b[0;32m     20\u001b[0m             \u001b[0mdf\u001b[0m\u001b[1;33m.\u001b[0m\u001b[0mloc\u001b[0m\u001b[1;33m[\u001b[0m\u001b[0mx\u001b[0m\u001b[1;33m,\u001b[0m \u001b[1;34m'label_binary'\u001b[0m\u001b[1;33m]\u001b[0m \u001b[1;33m=\u001b[0m \u001b[1;32mFalse\u001b[0m\u001b[1;33m\u001b[0m\u001b[1;33m\u001b[0m\u001b[0m\n",
      "\u001b[1;32mc:\\Users\\aurel\\AppData\\Local\\Programs\\Python\\Python312\\Lib\\site-packages\\pandas\\core\\indexing.py\u001b[0m in \u001b[0;36m?\u001b[1;34m(self, key, value)\u001b[0m\n\u001b[0;32m    907\u001b[0m         \u001b[0mindexer\u001b[0m \u001b[1;33m=\u001b[0m \u001b[0mself\u001b[0m\u001b[1;33m.\u001b[0m\u001b[0m_get_setitem_indexer\u001b[0m\u001b[1;33m(\u001b[0m\u001b[0mkey\u001b[0m\u001b[1;33m)\u001b[0m\u001b[1;33m\u001b[0m\u001b[1;33m\u001b[0m\u001b[0m\n\u001b[0;32m    908\u001b[0m         \u001b[0mself\u001b[0m\u001b[1;33m.\u001b[0m\u001b[0m_has_valid_setitem_indexer\u001b[0m\u001b[1;33m(\u001b[0m\u001b[0mkey\u001b[0m\u001b[1;33m)\u001b[0m\u001b[1;33m\u001b[0m\u001b[1;33m\u001b[0m\u001b[0m\n\u001b[0;32m    909\u001b[0m \u001b[1;33m\u001b[0m\u001b[0m\n\u001b[0;32m    910\u001b[0m         \u001b[0miloc\u001b[0m \u001b[1;33m=\u001b[0m \u001b[0mself\u001b[0m \u001b[1;32mif\u001b[0m \u001b[0mself\u001b[0m\u001b[1;33m.\u001b[0m\u001b[0mname\u001b[0m \u001b[1;33m==\u001b[0m \u001b[1;34m\"iloc\"\u001b[0m \u001b[1;32melse\u001b[0m \u001b[0mself\u001b[0m\u001b[1;33m.\u001b[0m\u001b[0mobj\u001b[0m\u001b[1;33m.\u001b[0m\u001b[0miloc\u001b[0m\u001b[1;33m\u001b[0m\u001b[1;33m\u001b[0m\u001b[0m\n\u001b[1;32m--> 911\u001b[1;33m         \u001b[0miloc\u001b[0m\u001b[1;33m.\u001b[0m\u001b[0m_setitem_with_indexer\u001b[0m\u001b[1;33m(\u001b[0m\u001b[0mindexer\u001b[0m\u001b[1;33m,\u001b[0m \u001b[0mvalue\u001b[0m\u001b[1;33m,\u001b[0m \u001b[0mself\u001b[0m\u001b[1;33m.\u001b[0m\u001b[0mname\u001b[0m\u001b[1;33m)\u001b[0m\u001b[1;33m\u001b[0m\u001b[1;33m\u001b[0m\u001b[0m\n\u001b[0m",
      "\u001b[1;32mc:\\Users\\aurel\\AppData\\Local\\Programs\\Python\\Python312\\Lib\\site-packages\\pandas\\core\\indexing.py\u001b[0m in \u001b[0;36m?\u001b[1;34m(self, indexer, value, name)\u001b[0m\n\u001b[0;32m   1938\u001b[0m \u001b[1;33m\u001b[0m\u001b[0m\n\u001b[0;32m   1939\u001b[0m         \u001b[1;31m# align and set the values\u001b[0m\u001b[1;33m\u001b[0m\u001b[1;33m\u001b[0m\u001b[0m\n\u001b[0;32m   1940\u001b[0m         \u001b[1;32mif\u001b[0m \u001b[0mtake_split_path\u001b[0m\u001b[1;33m:\u001b[0m\u001b[1;33m\u001b[0m\u001b[1;33m\u001b[0m\u001b[0m\n\u001b[0;32m   1941\u001b[0m             \u001b[1;31m# We have to operate column-wise\u001b[0m\u001b[1;33m\u001b[0m\u001b[1;33m\u001b[0m\u001b[0m\n\u001b[1;32m-> 1942\u001b[1;33m             \u001b[0mself\u001b[0m\u001b[1;33m.\u001b[0m\u001b[0m_setitem_with_indexer_split_path\u001b[0m\u001b[1;33m(\u001b[0m\u001b[0mindexer\u001b[0m\u001b[1;33m,\u001b[0m \u001b[0mvalue\u001b[0m\u001b[1;33m,\u001b[0m \u001b[0mname\u001b[0m\u001b[1;33m)\u001b[0m\u001b[1;33m\u001b[0m\u001b[1;33m\u001b[0m\u001b[0m\n\u001b[0m\u001b[0;32m   1943\u001b[0m         \u001b[1;32melse\u001b[0m\u001b[1;33m:\u001b[0m\u001b[1;33m\u001b[0m\u001b[1;33m\u001b[0m\u001b[0m\n\u001b[0;32m   1944\u001b[0m             \u001b[0mself\u001b[0m\u001b[1;33m.\u001b[0m\u001b[0m_setitem_single_block\u001b[0m\u001b[1;33m(\u001b[0m\u001b[0mindexer\u001b[0m\u001b[1;33m,\u001b[0m \u001b[0mvalue\u001b[0m\u001b[1;33m,\u001b[0m \u001b[0mname\u001b[0m\u001b[1;33m)\u001b[0m\u001b[1;33m\u001b[0m\u001b[1;33m\u001b[0m\u001b[0m\n",
      "\u001b[1;32mc:\\Users\\aurel\\AppData\\Local\\Programs\\Python\\Python312\\Lib\\site-packages\\pandas\\core\\indexing.py\u001b[0m in \u001b[0;36m?\u001b[1;34m(self, indexer, value, name)\u001b[0m\n\u001b[0;32m   2031\u001b[0m \u001b[1;33m\u001b[0m\u001b[0m\n\u001b[0;32m   2032\u001b[0m         \u001b[1;32melse\u001b[0m\u001b[1;33m:\u001b[0m\u001b[1;33m\u001b[0m\u001b[1;33m\u001b[0m\u001b[0m\n\u001b[0;32m   2033\u001b[0m             \u001b[1;31m# scalar value\u001b[0m\u001b[1;33m\u001b[0m\u001b[1;33m\u001b[0m\u001b[0m\n\u001b[0;32m   2034\u001b[0m             \u001b[1;32mfor\u001b[0m \u001b[0mloc\u001b[0m \u001b[1;32min\u001b[0m \u001b[0milocs\u001b[0m\u001b[1;33m:\u001b[0m\u001b[1;33m\u001b[0m\u001b[1;33m\u001b[0m\u001b[0m\n\u001b[1;32m-> 2035\u001b[1;33m                 \u001b[0mself\u001b[0m\u001b[1;33m.\u001b[0m\u001b[0m_setitem_single_column\u001b[0m\u001b[1;33m(\u001b[0m\u001b[0mloc\u001b[0m\u001b[1;33m,\u001b[0m \u001b[0mvalue\u001b[0m\u001b[1;33m,\u001b[0m \u001b[0mpi\u001b[0m\u001b[1;33m)\u001b[0m\u001b[1;33m\u001b[0m\u001b[1;33m\u001b[0m\u001b[0m\n\u001b[0m",
      "\u001b[1;32mc:\\Users\\aurel\\AppData\\Local\\Programs\\Python\\Python312\\Lib\\site-packages\\pandas\\core\\indexing.py\u001b[0m in \u001b[0;36m?\u001b[1;34m(self, loc, value, plane_indexer)\u001b[0m\n\u001b[0;32m   2173\u001b[0m                     \u001b[0mvalue\u001b[0m\u001b[1;33m,\u001b[0m \u001b[0mlen\u001b[0m\u001b[1;33m(\u001b[0m\u001b[0mself\u001b[0m\u001b[1;33m.\u001b[0m\u001b[0mobj\u001b[0m\u001b[1;33m)\u001b[0m\u001b[1;33m\u001b[0m\u001b[1;33m\u001b[0m\u001b[0m\n\u001b[0;32m   2174\u001b[0m                 \u001b[1;33m)\u001b[0m\u001b[1;33m\u001b[0m\u001b[1;33m\u001b[0m\u001b[0m\n\u001b[0;32m   2175\u001b[0m             \u001b[0mself\u001b[0m\u001b[1;33m.\u001b[0m\u001b[0mobj\u001b[0m\u001b[1;33m.\u001b[0m\u001b[0m_mgr\u001b[0m\u001b[1;33m.\u001b[0m\u001b[0mcolumn_setitem\u001b[0m\u001b[1;33m(\u001b[0m\u001b[0mloc\u001b[0m\u001b[1;33m,\u001b[0m \u001b[0mplane_indexer\u001b[0m\u001b[1;33m,\u001b[0m \u001b[0mvalue\u001b[0m\u001b[1;33m)\u001b[0m\u001b[1;33m\u001b[0m\u001b[1;33m\u001b[0m\u001b[0m\n\u001b[0;32m   2176\u001b[0m \u001b[1;33m\u001b[0m\u001b[0m\n\u001b[1;32m-> 2177\u001b[1;33m         \u001b[0mself\u001b[0m\u001b[1;33m.\u001b[0m\u001b[0mobj\u001b[0m\u001b[1;33m.\u001b[0m\u001b[0m_clear_item_cache\u001b[0m\u001b[1;33m(\u001b[0m\u001b[1;33m)\u001b[0m\u001b[1;33m\u001b[0m\u001b[1;33m\u001b[0m\u001b[0m\n\u001b[0m",
      "\u001b[1;32mc:\\Users\\aurel\\AppData\\Local\\Programs\\Python\\Python312\\Lib\\site-packages\\pandas\\core\\frame.py\u001b[0m in \u001b[0;36m?\u001b[1;34m(self)\u001b[0m\n\u001b[0;32m   4623\u001b[0m     \u001b[1;32mdef\u001b[0m \u001b[0m_clear_item_cache\u001b[0m\u001b[1;33m(\u001b[0m\u001b[0mself\u001b[0m\u001b[1;33m)\u001b[0m \u001b[1;33m->\u001b[0m \u001b[1;32mNone\u001b[0m\u001b[1;33m:\u001b[0m\u001b[1;33m\u001b[0m\u001b[1;33m\u001b[0m\u001b[0m\n\u001b[1;32m-> 4624\u001b[1;33m         \u001b[0mself\u001b[0m\u001b[1;33m.\u001b[0m\u001b[0m_item_cache\u001b[0m\u001b[1;33m.\u001b[0m\u001b[0mclear\u001b[0m\u001b[1;33m(\u001b[0m\u001b[1;33m)\u001b[0m\u001b[1;33m\u001b[0m\u001b[1;33m\u001b[0m\u001b[0m\n\u001b[0m",
      "\u001b[1;31mKeyboardInterrupt\u001b[0m: "
     ]
    }
   ],
   "source": [
    "# Recuperer les deuxièmes fichiers csv\n",
    "data_dir = '../data/clean'\n",
    "csv_files = get_csv_files(data_dir)\n",
    "\n",
    "df=load_data(data_dir+\"/\"+csv_files[0][1])\n",
    "#les charger, les nettoyer et les sauvegarder\n",
    "for i in range (1, len(csv_files)):\n",
    "    file = csv_files[i][1]\n",
    "    data_path = data_dir+\"/\"+file\n",
    "    df2 = load_data(data_path)\n",
    "    print(file)\n",
    "    print(df2.shape)\n",
    "    df = pd.concat([df, df2], ignore_index=True)\n",
    "    print(df.shape)\n"
   ]
  },
  {
   "cell_type": "markdown",
   "metadata": {},
   "source": [
    "On réorganise les colonnes"
   ]
  },
  {
   "cell_type": "code",
   "execution_count": null,
   "metadata": {},
   "outputs": [
    {
     "name": "stdout",
     "output_type": "stream",
     "text": [
      "24\n"
     ]
    }
   ],
   "source": [
    "t=[\"conn_state\",\"duration\",\"local_orig\",\"local_resp\",\"protocol\",\"service\",\"history\",\"date\",\"heure\",\"src_ip\",\"src_port\", \"orig_bytes\",\"orig_pkts\",\"orig_ip_bytes\",\"dest_ip\",\"dest_port\",\"resp_bytes\",\"resp_pkts\",\"resp_ip_bytes\",\"missed_bytes\",\"label_cve\",\"label_technique\",\"label_binary\",\"label_tactic\"]\n",
    "print(len(t))\n",
    "df = df[t]  # Si nécessaire"
   ]
  },
  {
   "cell_type": "markdown",
   "metadata": {},
   "source": [
    "On vérifie les colonnes que possède le dataframe, et qu'il n'ya a pas de valeurs vides"
   ]
  },
  {
   "cell_type": "code",
   "execution_count": null,
   "metadata": {},
   "outputs": [
    {
     "name": "stdout",
     "output_type": "stream",
     "text": [
      "<class 'pandas.core.frame.DataFrame'>\n",
      "RangeIndex: 2140605 entries, 0 to 2140604\n",
      "Data columns (total 24 columns):\n",
      " #   Column           Dtype  \n",
      "---  ------           -----  \n",
      " 0   conn_state       object \n",
      " 1   duration         float64\n",
      " 2   local_orig       bool   \n",
      " 3   local_resp       bool   \n",
      " 4   protocol         object \n",
      " 5   service          object \n",
      " 6   history          object \n",
      " 7   date             object \n",
      " 8   heure            object \n",
      " 9   src_ip           object \n",
      " 10  src_port         int64  \n",
      " 11  orig_bytes       float64\n",
      " 12  orig_pkts        int64  \n",
      " 13  orig_ip_bytes    int64  \n",
      " 14  dest_ip          object \n",
      " 15  dest_port        int64  \n",
      " 16  resp_bytes       float64\n",
      " 17  resp_pkts        int64  \n",
      " 18  resp_ip_bytes    int64  \n",
      " 19  missed_bytes     int64  \n",
      " 20  label_cve        object \n",
      " 21  label_technique  object \n",
      " 22  label_binary     object \n",
      " 23  label_tactic     object \n",
      "dtypes: bool(2), float64(3), int64(7), object(12)\n",
      "memory usage: 363.4+ MB\n",
      "None\n"
     ]
    }
   ],
   "source": [
    "print(df.info())"
   ]
  },
  {
   "cell_type": "markdown",
   "metadata": {},
   "source": [
    "On vérifie quelles colonnes peuvent etre retirées"
   ]
  },
  {
   "cell_type": "code",
   "execution_count": null,
   "metadata": {},
   "outputs": [
    {
     "name": "stdout",
     "output_type": "stream",
     "text": [
      "           duration      src_port    orig_bytes     orig_pkts  orig_ip_bytes  \\\n",
      "count  2.140605e+06  2.140605e+06  2.140605e+06  2.140605e+06   2.140605e+06   \n",
      "mean   9.504660e-01  4.552413e+04  4.209239e+03  2.722190e+00   2.598567e+02   \n",
      "std    3.872644e+00  1.098552e+04  2.776727e+06  6.472138e+00   1.028136e+03   \n",
      "min    0.000000e+00  3.000000e+00  0.000000e+00  0.000000e+00   0.000000e+00   \n",
      "25%    1.311302e-05  3.899500e+04  7.800000e+01  2.000000e+00   1.340000e+02   \n",
      "50%    1.811981e-05  4.618400e+04  8.200000e+01  2.000000e+00   1.380000e+02   \n",
      "75%    3.988743e-04  5.366100e+04  1.020000e+02  2.000000e+00   1.580000e+02   \n",
      "max    3.256383e+02  6.553500e+04  1.987041e+09  2.960000e+02   1.182120e+05   \n",
      "\n",
      "          dest_port    resp_bytes     resp_pkts  resp_ip_bytes  missed_bytes  \n",
      "count  2.140605e+06  2.140605e+06  2.140605e+06   2.140605e+06  2.140605e+06  \n",
      "mean   2.493915e+02  3.099293e+02  1.700348e+00   1.248912e+03  4.584685e-02  \n",
      "std    1.816936e+03  2.149391e+03  8.799687e+00   9.056720e+03  1.482934e+01  \n",
      "min    0.000000e+00  0.000000e+00  0.000000e+00   0.000000e+00  0.000000e+00  \n",
      "25%    5.300000e+01  0.000000e+00  0.000000e+00   0.000000e+00  0.000000e+00  \n",
      "50%    5.300000e+01  0.000000e+00  0.000000e+00   0.000000e+00  0.000000e+00  \n",
      "75%    5.300000e+01  3.200000e+01  1.000000e+00   6.700000e+01  0.000000e+00  \n",
      "max    6.538900e+04  8.304700e+04  3.200000e+02   3.468280e+05  8.382000e+03  \n"
     ]
    }
   ],
   "source": [
    "print(df.describe())"
   ]
  },
  {
   "cell_type": "code",
   "execution_count": null,
   "metadata": {},
   "outputs": [],
   "source": [
    "save_data(df, \"../data/FINAL.csv\")"
   ]
  }
 ],
 "metadata": {
  "kernelspec": {
   "display_name": "Python 3",
   "language": "python",
   "name": "python3"
  },
  "language_info": {
   "codemirror_mode": {
    "name": "ipython",
    "version": 3
   },
   "file_extension": ".py",
   "mimetype": "text/x-python",
   "name": "python",
   "nbconvert_exporter": "python",
   "pygments_lexer": "ipython3",
   "version": "3.12.6"
  }
 },
 "nbformat": 4,
 "nbformat_minor": 2
}
