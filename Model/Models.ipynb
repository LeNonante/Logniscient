{
 "cells": [
  {
   "cell_type": "markdown",
   "metadata": {},
   "source": [
    "# Models"
   ]
  },
  {
   "cell_type": "code",
   "execution_count": 2,
   "metadata": {},
   "outputs": [],
   "source": [
    "import lightgbm as lgb\n",
    "import pandas as pd\n",
    "import numpy as np\n",
    "from sklearn.model_selection import train_test_split\n",
    "from sklearn.calibration import LabelEncoder\n",
    "import os\n",
    "import ipaddress\n",
    "import seaborn as sns\n",
    "import matplotlib.pyplot as plt\n",
    "import pickle\n",
    "import random"
   ]
  },
  {
   "cell_type": "markdown",
   "metadata": {},
   "source": [
    "### Chargement des données"
   ]
  },
  {
   "cell_type": "markdown",
   "metadata": {},
   "source": [
    "On charge les données et on encode les variable catégorielles, on modifie les labels de sortie pour avoir 'none' et 'malveillant'"
   ]
  },
  {
   "cell_type": "code",
   "execution_count": null,
   "metadata": {},
   "outputs": [
    {
     "name": "stdout",
     "output_type": "stream",
     "text": [
      "Lignes traitées : 10000\n",
      "Lignes traitées : 20000\n",
      "Lignes traitées : 30000\n",
      "Lignes traitées : 40000\n",
      "Lignes traitées : 50000\n",
      "Lignes traitées : 60000\n",
      "Lignes traitées : 70000\n",
      "Lignes traitées : 80000\n",
      "Lignes traitées : 90000\n",
      "Lignes traitées : 100000\n",
      "Lignes traitées : 110000\n",
      "Lignes traitées : 120000\n",
      "Lignes traitées : 130000\n",
      "Lignes traitées : 140000\n",
      "Lignes traitées : 150000\n",
      "Lignes traitées : 160000\n",
      "Lignes traitées : 170000\n",
      "Lignes traitées : 180000\n",
      "Lignes traitées : 190000\n",
      "Lignes traitées : 200000\n",
      "Lignes traitées : 210000\n",
      "Lignes traitées : 220000\n",
      "Lignes traitées : 230000\n",
      "Lignes traitées : 240000\n",
      "Lignes traitées : 250000\n",
      "Lignes traitées : 260000\n",
      "Lignes traitées : 270000\n",
      "Lignes traitées : 280000\n",
      "Lignes traitées : 290000\n",
      "Lignes traitées : 300000\n",
      "Lignes traitées : 310000\n",
      "Lignes traitées : 320000\n"
     ]
    }
   ],
   "source": [
    "df0=pd.read_csv(\"../data/final/Credential_Access.csv\")\n",
    "df1=pd.read_csv(\"../data/final/Defense_Evasion.csv\")\n",
    "df2=pd.read_csv(\"../data/final/Discovery.csv\")\n",
    "df3=pd.read_csv(\"../data/final/Exfiltration.csv\")\n",
    "df4=pd.read_csv(\"../data/final/Initial_Access.csv\")\n",
    "df5=pd.read_csv(\"../data/final/none.csv\")\n",
    "df6=pd.read_csv(\"../data/final/Persistence.csv\")\n",
    "df7=pd.read_csv(\"../data/final/Privilege_Escalation.csv\")\n",
    "df8=pd.read_csv(\"../data/final/Reconnaissance.csv\")\n",
    "listeDatasets=[df0,df1,df2,df3,df4,df5,df6,df7,df8]\n",
    "\n",
    "categorical_columns = ['conn_state', 'protocol', 'service', 'history', 'label_tactic']\n",
    "  \n",
    "#Gestion des dates\n",
    "for i in range(len(listeDatasets)):\n",
    "    df=listeDatasets[i]\n",
    "\n",
    "     # Modifier la colonne\n",
    "    df['label_tactic'] = df['label_tactic'].apply(lambda x: \"malveillant\" if x != \"none\" else x)\n",
    "\n",
    "    df['ts'] = pd.to_datetime(df['ts'], unit='s')\n",
    "    df['year'] = df['ts'].dt.year\n",
    "    df['month'] = df['ts'].dt.month\n",
    "    df['day'] = df['ts'].dt.day\n",
    "    df['hour'] = df['ts'].dt.hour\n",
    "    df['minute'] = df['ts'].dt.minute\n",
    "    df['seconde'] = df['ts'].dt.second\n",
    "    df['dayofweek'] = df['ts'].dt.dayofweek  # 0=lundi, 6=dimanche\n",
    "\n",
    "    # Caractéristiques cycliques pour l'heure (pour préserver la nature cyclique)\n",
    "    df['hour_sin'] = np.sin(2 * np.pi * df['hour']/24)\n",
    "    df['hour_cos'] = np.cos(2 * np.pi * df['hour']/24)\n",
    "\n",
    "    # Caractéristiques cycliques pour le jour de la semaine\n",
    "    df['dow_sin'] = np.sin(2 * np.pi * df['dayofweek']/7)\n",
    "    df['dow_cos'] = np.cos(2 * np.pi * df['dayofweek']/7)\n",
    "\n",
    "    # Trier par timestamp pour calculer les différences temporelles\n",
    "    df = df.sort_values('ts')\n",
    "    df['time_since_last'] = df['ts'].diff().dt.total_seconds()\n",
    "\n",
    "    # Remplacer la première valeur NaN par 0 ou une autre valeur appropriée\n",
    "    df['time_since_last'] = df['time_since_last'].fillna(0)\n",
    "\n",
    "    df=df.drop(['ts'], axis=1)\n",
    "\n",
    "    #Gestion des adresses IP\n",
    "    df['src_ip'] = df['src_ip'].apply(lambda x: int(ipaddress.ip_address(x)))\n",
    "    df['dest_ip'] = df['dest_ip'].apply(lambda x: int(ipaddress.ip_address(x)))\n",
    "    \n",
    "    #Une IPV6 est un trop grand nombre, on ne peut pas le mettre en entier\n",
    "    #On normalise donc les ip en divisant par la plus grande valeur possible (pour etre entre 0 et 1)\n",
    "    df['src_ip'] = df['src_ip']/(2**128 - 1) # 2^128 est le max pour IPv6 car codée sur 128 bits\n",
    "    df['dest_ip'] = df['dest_ip']/(2**128 - 1)\n",
    "\n",
    "    df['src_ip']=df['src_ip'].astype(float)\n",
    "    df['dest_ip']=df['dest_ip'].astype(float)\n",
    "\n",
    "    listeDatasets[i]=df\n",
    "\n",
    "#Diviser chaque dataset en train/test (85/15)\n",
    "list_inconnu=['conn_state','protocol','history']\n",
    "list_df_datasets=[]\n",
    "compteur=0\n",
    "for df in listeDatasets:\n",
    "    train_df, test_inconnu_df = train_test_split(df, test_size=0.15, random_state=42)\n",
    "    # Convertir en tableau NumPy pour accélérer les modifications\n",
    "    data_array = test_inconnu_df[list_inconnu].values  # Extraire les colonnes à modifier\n",
    "    num_rows, num_cols = data_array.shape\n",
    "\n",
    "    # Générer un masque pour sélectionner aléatoirement 1, 2 ou 3 colonnes par ligne\n",
    "    for i in range(num_rows):\n",
    "        compteur += 1\n",
    "        if compteur % 10000 == 0:  # Affiche seulement toutes les 10 000 lignes pour ne pas ralentir\n",
    "            print(f\"Lignes traitées : {compteur}\")\n",
    "\n",
    "        # Sélectionner aléatoirement des colonnes à modifier\n",
    "        num_cols_to_modify = random.choice([1, 2, 3])\n",
    "        cols_to_change = random.sample(range(num_cols), num_cols_to_modify)\n",
    "\n",
    "        # Modifier directement les valeurs\n",
    "        for col in cols_to_change:\n",
    "            data_array[i, col] = 'unknown'\n",
    "\n",
    "    # Remettre les données modifiées dans le DataFrame\n",
    "    test_inconnu_df[list_inconnu] = data_array\n",
    "\n",
    "    # Ajouter à la liste sans refaire de concaténation inutile\n",
    "    list_df_datasets.append(pd.concat([train_df, test_inconnu_df], ignore_index=True))\n",
    "\n",
    "# Remplacer listeDatasets en une seule opération\n",
    "listeDatasets = list_df_datasets\n",
    "\n",
    "# Créer et stocker les encodeurs\n",
    "encoders = {}\n",
    "for col in categorical_columns:\n",
    "    # Collecter toutes les valeurs uniques de TOUS les datasets\n",
    "    all_values = pd.concat([df[col] for df in listeDatasets]).unique()\n",
    "    \n",
    "    # Créer et ajuster l'encodeur sur toutes les valeurs possibles\n",
    "    encoders[col] = LabelEncoder().fit(all_values)\n",
    "    \n",
    "    # Appliquer l'encodeur à chaque dataset\n",
    "    for df in listeDatasets:\n",
    "        df[col] = encoders[col].transform(df[col])\n"
   ]
  },
  {
   "cell_type": "markdown",
   "metadata": {},
   "source": [
    "Affichage de la structure d'un dataset encodé"
   ]
  },
  {
   "cell_type": "code",
   "execution_count": 10,
   "metadata": {},
   "outputs": [
    {
     "name": "stdout",
     "output_type": "stream",
     "text": [
      "Index(['conn_state', 'duration', 'local_orig', 'local_resp', 'protocol',\n",
      "       'service', 'history', 'src_ip', 'src_port', 'orig_bytes', 'orig_pkts',\n",
      "       'orig_ip_bytes', 'dest_ip', 'dest_port', 'resp_bytes', 'resp_pkts',\n",
      "       'resp_ip_bytes', 'missed_bytes', 'label_tactic', 'year', 'month', 'day',\n",
      "       'hour', 'minute', 'seconde', 'dayofweek', 'hour_sin', 'hour_cos',\n",
      "       'dow_sin', 'dow_cos', 'time_since_last'],\n",
      "      dtype='object')\n",
      "0    7.067402e-30\n",
      "1    7.067396e-30\n",
      "2    7.067404e-30\n",
      "3    7.067396e-30\n",
      "4    7.067402e-30\n",
      "Name: dest_ip, dtype: float64\n"
     ]
    }
   ],
   "source": [
    "print(listeDatasets[1].columns)\n",
    "print(listeDatasets[7][\"dest_ip\"].head())"
   ]
  },
  {
   "cell_type": "markdown",
   "metadata": {},
   "source": [
    "### Separation des données"
   ]
  },
  {
   "cell_type": "code",
   "execution_count": 11,
   "metadata": {},
   "outputs": [
    {
     "name": "stdout",
     "output_type": "stream",
     "text": [
      "       conn_state  duration  local_orig  local_resp  protocol  service  \\\n",
      "6735            6  0.022819           0           0         1       18   \n",
      "15280           6  0.733703           0           0         1       18   \n",
      "28665           6  0.838346           0           0         1       18   \n",
      "38545           6  0.036003           0           0         3       18   \n",
      "6434            6  1.442142           0           0         1       18   \n",
      "\n",
      "       history        src_ip  src_port  orig_bytes  ...  day  hour  minute  \\\n",
      "6735        29  7.067404e-30     44147       686.0  ...   23    22      56   \n",
      "15280       29  7.067395e-30     37217      1046.0  ...   16     6      55   \n",
      "28665       29  7.067399e-30     39683      1005.0  ...   27     1      53   \n",
      "38545       63  7.067395e-30     42281       686.0  ...   14     2      28   \n",
      "6434        29  7.067396e-30     36289      1047.0  ...   23     2      17   \n",
      "\n",
      "       seconde  dayofweek  hour_sin      hour_cos   dow_sin   dow_cos  \\\n",
      "6735        34          5 -0.500000  8.660254e-01 -0.974928 -0.222521   \n",
      "15280       22          5  1.000000  6.123234e-17 -0.974928 -0.222521   \n",
      "28665       33          2  0.258819  9.659258e-01  0.974928 -0.222521   \n",
      "38545       59          3  0.500000  8.660254e-01  0.433884 -0.900969   \n",
      "6434        57          5  0.500000  8.660254e-01 -0.974928 -0.222521   \n",
      "\n",
      "       time_since_last  \n",
      "6735          0.397370  \n",
      "15280         1.701636  \n",
      "28665         0.279432  \n",
      "38545         0.092705  \n",
      "6434          0.283742  \n",
      "\n",
      "[5 rows x 31 columns]\n",
      "(428126, 31)\n",
      "Index(['conn_state', 'duration', 'local_orig', 'local_resp', 'protocol',\n",
      "       'service', 'history', 'src_ip', 'src_port', 'orig_bytes', 'orig_pkts',\n",
      "       'orig_ip_bytes', 'dest_ip', 'dest_port', 'resp_bytes', 'resp_pkts',\n",
      "       'resp_ip_bytes', 'missed_bytes', 'label_tactic', 'year', 'month', 'day',\n",
      "       'hour', 'minute', 'seconde', 'dayofweek', 'hour_sin', 'hour_cos',\n",
      "       'dow_sin', 'dow_cos', 'time_since_last'],\n",
      "      dtype='object')\n"
     ]
    }
   ],
   "source": [
    "#Diviser chaque dataset en train/test (80/20)\n",
    "train_dfs = []\n",
    "test_dfs = []\n",
    "\n",
    "for df in listeDatasets:\n",
    "    train_df, test_df = train_test_split(df, test_size=0.2, random_state=42)\n",
    "    train_dfs.append(train_df)\n",
    "    test_dfs.append(test_df)\n",
    "\n",
    "#Concaténer les ensembles\n",
    "combined_train = pd.concat(train_dfs)\n",
    "combined_test = pd.concat(test_dfs)\n",
    "\n",
    "print(combined_test.head())\n",
    "print(combined_test.shape)\n",
    "print(combined_train.columns)"
   ]
  },
  {
   "cell_type": "markdown",
   "metadata": {},
   "source": [
    "### Entrainement du modèle"
   ]
  },
  {
   "cell_type": "code",
   "execution_count": 12,
   "metadata": {},
   "outputs": [
    {
     "name": "stdout",
     "output_type": "stream",
     "text": [
      "[LightGBM] [Info] Auto-choosing row-wise multi-threading, the overhead of testing was 0.118647 seconds.\n",
      "You can set `force_row_wise=true` to remove the overhead.\n",
      "And if memory is not enough, you can set `force_col_wise=true`.\n",
      "[LightGBM] [Info] Total Bins 2164\n",
      "[LightGBM] [Info] Number of data points in the train set: 1712479, number of used features: 30\n",
      "[LightGBM] [Info] Start training from score -1.350555\n",
      "[LightGBM] [Info] Start training from score -0.299885\n",
      "[LightGBM] [Warning] No further splits with positive gain, best gain: -inf\n"
     ]
    }
   ],
   "source": [
    "features = ['conn_state', 'duration', 'local_orig', 'local_resp', 'protocol',\n",
    "       'service', 'history','src_ip',  'src_port', 'orig_bytes', 'orig_pkts',\n",
    "       'orig_ip_bytes', 'dest_ip', 'dest_port', 'resp_bytes', 'resp_pkts',\n",
    "       'resp_ip_bytes', 'missed_bytes', 'year', 'month', 'day',\n",
    "       'hour', 'minute', 'seconde', 'dayofweek', 'hour_sin', 'hour_cos',\n",
    "       'dow_sin', 'dow_cos', 'time_since_last']\n",
    "\n",
    "label='label_tactic'\n",
    "\n",
    "# Préparer X et y\n",
    "X_train = combined_train[features]\n",
    "y_train = combined_train[label]\n",
    "X_test = combined_test[features]\n",
    "y_test = combined_test[label]\n",
    "\n",
    "# Créer les datasets LightGBM\n",
    "categorical_indices = [features.index(col) for col in categorical_columns[:-1] ]#On recupere l'index de chaque colonne catégorielle (sauf le label)\n",
    "train_data = lgb.Dataset(X_train, label=y_train, categorical_feature=categorical_indices)\n",
    "test_data = lgb.Dataset(X_test, label=y_test, reference=train_data)\n",
    "\n",
    "\n",
    "\n",
    "# 9. Paramètres LightGBM\n",
    "num_classes = len(encoders['label_tactic'].classes_)\n",
    "params = {\n",
    "    'objective': 'multiclass',\n",
    "    'num_class': num_classes,\n",
    "    'metric': 'multi_logloss',\n",
    "    'boosting_type': 'gbdt',\n",
    "    'num_leaves': 31,\n",
    "    'learning_rate': 0.05,\n",
    "    'feature_fraction': 0.9,\n",
    "    'verbose': 1\n",
    "}\n",
    "\n",
    "# 10. Entraîner le modèle\n",
    "gbm = lgb.train(\n",
    "    params,\n",
    "    train_data,\n",
    "    num_boost_round=100,\n",
    "    valid_sets=[test_data],\n",
    ")"
   ]
  },
  {
   "cell_type": "markdown",
   "metadata": {},
   "source": [
    "### Affichage d'un arbre"
   ]
  },
  {
   "cell_type": "code",
   "execution_count": 14,
   "metadata": {},
   "outputs": [
    {
     "data": {
      "text/plain": [
       "\"# Afficher l'arbre (exemple pour le premier arbre)\\nax = lgb.plot_tree(gbm, tree_index=-1, figsize=(20, 10), show_info=['split_gain', 'internal_value', 'internal_count', 'leaf_count'])\\n\\nplt.show()\""
      ]
     },
     "execution_count": 14,
     "metadata": {},
     "output_type": "execute_result"
    }
   ],
   "source": [
    "'''# Afficher l'arbre (exemple pour le premier arbre)\n",
    "ax = lgb.plot_tree(gbm, tree_index=-1, figsize=(20, 10), show_info=['split_gain', 'internal_value', 'internal_count', 'leaf_count'])\n",
    "\n",
    "plt.show()'''"
   ]
  },
  {
   "cell_type": "markdown",
   "metadata": {},
   "source": [
    "### Evaluation du modèle"
   ]
  },
  {
   "cell_type": "code",
   "execution_count": 15,
   "metadata": {},
   "outputs": [
    {
     "data": {
      "image/png": "[encoded data removed]",
      "text/plain": [
       "<Figure size 800x600 with 2 Axes>"
      ]
     },
     "metadata": {},
     "output_type": "display_data"
    },
    {
     "name": "stdout",
     "output_type": "stream",
     "text": [
      "\n",
      "Rapport de classification:\n",
      "              precision    recall  f1-score   support\n",
      "\n",
      " malveillant       1.00      1.00      1.00    110930\n",
      "        none       1.00      1.00      1.00    317196\n",
      "\n",
      "    accuracy                           1.00    428126\n",
      "   macro avg       1.00      1.00      1.00    428126\n",
      "weighted avg       1.00      1.00      1.00    428126\n",
      "\n"
     ]
    }
   ],
   "source": [
    "# 11. Évaluer le modèle\n",
    "y_pred = gbm.predict(X_test, num_iteration=gbm.best_iteration)\n",
    "y_pred_class = np.argmax(y_pred, axis=1)\n",
    "\n",
    "# Reconvertir en labels textuels pour l'évaluation\n",
    "y_pred_labels = encoders['label_tactic'].inverse_transform(y_pred_class)\n",
    "y_test_labels = encoders['label_tactic'].inverse_transform(y_test)\n",
    "\n",
    "# Afficher les résultats\n",
    "from sklearn.metrics import classification_report, confusion_matrix\n",
    "cm=confusion_matrix(y_test, y_pred_class)\n",
    "\n",
    "labels = np.unique(y_test_labels)\n",
    "\n",
    "# Afficher sous forme de heatmap\n",
    "plt.figure(figsize=(8, 6))\n",
    "ax = sns.heatmap(cm, annot=True, fmt='d', cmap='Blues', xticklabels=labels , yticklabels=labels)\n",
    "#annot= affichage des valeurs dans les carrés  fmt = formatage des valeurs, d = entier (par exemple si c'est 0.87, il sera affiché 1).\n",
    "\n",
    "# Ajouter les labels APRÈS avoir tracé la heatmap\n",
    "ax.set_xlabel('Prédictions', fontsize=12)\n",
    "ax.set_ylabel('Vraies étiquettes', fontsize=12)\n",
    "ax.set_title('Matrice de Confusion', fontsize=14)\n",
    "plt.show()\n",
    "\n",
    "\n",
    "\n",
    "print(\"\\nRapport de classification:\")\n",
    "print(classification_report(y_test_labels, y_pred_labels))\n",
    "\n",
    "# Sauvegarder le modèle et les encodeurs\n",
    "\n",
    "model_package = {\n",
    "    'model': gbm,\n",
    "    'encoders': encoders,\n",
    "    'features': features\n",
    "}\n",
    "\n",
    "with open('lightgbm_model_package.pkl', 'wb') as f:\n",
    "    pickle.dump(model_package, f)"
   ]
  },
  {
   "cell_type": "code",
   "execution_count": null,
   "metadata": {},
   "outputs": [],
   "source": []
  }
 ],
 "metadata": {
  "kernelspec": {
   "display_name": "Python 3",
   "language": "python",
   "name": "python3"
  },
  "language_info": {
   "codemirror_mode": {
    "name": "ipython",
    "version": 3
   },
   "file_extension": ".py",
   "mimetype": "text/x-python",
   "name": "python",
   "nbconvert_exporter": "python",
   "pygments_lexer": "ipython3",
   "version": "3.12.5"
  }
 },
 "nbformat": 4,
 "nbformat_minor": 2
}
