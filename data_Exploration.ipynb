{
 "cells": [
  {
   "cell_type": "code",
   "execution_count": 1,
   "metadata": {},
   "outputs": [],
   "source": [
    "import pandas as pd\n",
    "import numpy as np\n",
    "import os"
   ]
  },
  {
   "cell_type": "markdown",
   "metadata": {},
   "source": [
    "# recuperation des données"
   ]
  },
  {
   "cell_type": "markdown",
   "metadata": {
    "vscode": {
     "languageId": "plaintext"
    }
   },
   "source": [
    "## Premier dataset (UWF_TestZeekData24)"
   ]
  },
  {
   "cell_type": "markdown",
   "metadata": {},
   "source": [
    "### Création des fonctions"
   ]
  },
  {
   "cell_type": "code",
   "execution_count": 2,
   "metadata": {},
   "outputs": [],
   "source": [
    "# Load data\n",
    "def load_data(data_path):\n",
    "    return pd.read_csv(data_path)\n",
    "\n",
    "#clean data\n",
    "def clean_data_1(df):\n",
    "\n",
    "    #On renomme les colonnes\n",
    "    df.rename(columns={'proto': 'protocol'}, inplace=True)\n",
    "    df.rename(columns={'src_ip_zeek': 'src_ip'}, inplace=True)\n",
    "    df.rename(columns={'dest_ip_zeek': 'dest_ip'}, inplace=True)\n",
    "    df.rename(columns={'src_port_zeek': 'src_port'}, inplace=True)\n",
    "    df.rename(columns={'dest_port_zeek': 'dest_port'}, inplace=True)\n",
    "    return df\n",
    "\n",
    "#save data\n",
    "def save_data(df, data_path):\n",
    "    df.to_csv(data_path, index=False)\n",
    "    \n",
    "#Get all csv files in a directory and its subdirectories    \n",
    "def get_csv_files(data_dir):\n",
    "    csv_files = []\n",
    "    for root, dirs, files in os.walk(data_dir):\n",
    "        for file in files:\n",
    "            if file.endswith(\".csv\"):\n",
    "                sub_dir = os.path.basename(root)\n",
    "                csv_files.append((sub_dir, file))\n",
    "    return csv_files"
   ]
  },
  {
   "cell_type": "markdown",
   "metadata": {},
   "source": [
    "### Transformation"
   ]
  },
  {
   "cell_type": "code",
   "execution_count": 9,
   "metadata": {},
   "outputs": [
    {
     "name": "stdout",
     "output_type": "stream",
     "text": [
      "[('Benign', 'part-00000-b039213f-1208-4f1b-b71d-5e8e3a4a2939-c000 (1).csv'), ('Credential_Access', 'part-00000-912fdc44-5727-4d42-8fd6-a0e206ba29f8-c000.csv'), ('Defense_Evasion', 'part-00000-de4985c7-284a-4b6e-b507-e69a2d172582-c000.csv'), ('Exifltration', 'part-00000-6a530c25-0f6b-46a1-ba16-c6b658ef75e8-c000 (1).csv'), ('Initial_Access', 'part-00000-9a37b839-429e-444b-82a5-a6d5e69dad7e-c000.csv'), ('Persistence', 'part-00000-fb5a764a-e65e-4e10-b6fb-1a189589d5e0-c000.csv'), ('Privilege_Escalation', 'part-00000-d8fcf83a-aed1-4cb1-babf-581208088293-c000.csv'), ('Reconnaissance', 'part-00000-49ed1cc6-3205-4c76-8e28-4da9abf78363-c000.csv')]\n",
      "(95871, 26)\n"
     ]
    }
   ],
   "source": [
    "DFPrincipal = pd.DataFrame()\n",
    "\n",
    "# Recuperer les premiers fichiers csv\n",
    "data_dir = 'data/brut/UWF_TestZeekData24'\n",
    "csv_files = get_csv_files(data_dir)\n",
    "print(csv_files)\n",
    "\n",
    "#les charger, les nettoyer et les sauvegarder\n",
    "for i in csv_files:\n",
    "    sub_dir = i[0]\n",
    "    file = i[1]\n",
    "    data_path = data_dir+\"/\"+sub_dir+\"/\"+file\n",
    "    df = load_data(data_path)\n",
    "    df = clean_data_1(df)\n",
    "    DFPrincipal = pd.concat([DFPrincipal, df], ignore_index=True)\n",
    "print(DFPrincipal.shape)"
   ]
  },
  {
   "cell_type": "markdown",
   "metadata": {},
   "source": [
    "## Deuxième dataset (UWF_ZeekData22)"
   ]
  },
  {
   "cell_type": "markdown",
   "metadata": {},
   "source": [
    "### Création des fonctions"
   ]
  },
  {
   "cell_type": "code",
   "execution_count": 6,
   "metadata": {},
   "outputs": [],
   "source": [
    "def clean_data_2(df):\n",
    "    #On renomme les colonnes\n",
    "    df.rename(columns={'mitre_attack_tactics': 'label_tactic'}, inplace=True)  \n",
    "    \n",
    "    return df"
   ]
  },
  {
   "cell_type": "markdown",
   "metadata": {},
   "source": [
    "### Transformation"
   ]
  },
  {
   "cell_type": "code",
   "execution_count": 12,
   "metadata": {},
   "outputs": [
    {
     "name": "stdout",
     "output_type": "stream",
     "text": [
      "[('UWF_ZeekData22', '1.csv'), ('UWF_ZeekData22', '2.csv'), ('UWF_ZeekData22', '3.csv'), ('UWF_ZeekData22', '4.csv'), ('UWF_ZeekData22', '5.csv')]\n",
      "(2140605, 27)\n"
     ]
    }
   ],
   "source": [
    "# Recuperer les deuxièmes fichiers csv\n",
    "data_dir = 'data/brut/UWF_ZeekData22'\n",
    "csv_files = get_csv_files(data_dir)\n",
    "print(csv_files)\n",
    "\n",
    "for i in csv_files:\n",
    "    sub_dir = i[0]\n",
    "    file = i[1]\n",
    "    data_path = data_dir+\"/\"+file\n",
    "    df = load_data(data_path)\n",
    "    df = clean_data_1(df)\n",
    "    DFPrincipal = pd.concat([DFPrincipal, df], ignore_index=True)\n",
    "print(DFPrincipal.shape)\n",
    "    "
   ]
  },
  {
   "cell_type": "markdown",
   "metadata": {},
   "source": [
    "# Graphiques "
   ]
  },
  {
   "cell_type": "markdown",
   "metadata": {},
   "source": [
    "- Distribution :\n",
    "  - Des labels"
   ]
  }
 ],
 "metadata": {
  "kernelspec": {
   "display_name": "Python 3",
   "language": "python",
   "name": "python3"
  },
  "language_info": {
   "codemirror_mode": {
    "name": "ipython",
    "version": 3
   },
   "file_extension": ".py",
   "mimetype": "text/x-python",
   "name": "python",
   "nbconvert_exporter": "python",
   "pygments_lexer": "ipython3",
   "version": "3.12.6"
  }
 },
 "nbformat": 4,
 "nbformat_minor": 2
}
